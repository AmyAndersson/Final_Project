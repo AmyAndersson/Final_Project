{
 "cells": [
  {
   "cell_type": "code",
   "execution_count": 15,
   "metadata": {
    "collapsed": true,
    "jupyter": {
     "outputs_hidden": true
    },
    "slideshow": {
     "slide_type": "subslide"
    }
   },
   "outputs": [],
   "source": [
    "%matplotlib inline\n",
    "import matplotlib.pyplot as plt\n",
    "import pandas as pd\n",
    "import os"
   ]
  },
  {
   "cell_type": "markdown",
   "metadata": {},
   "source": [
    "DATA SURVEY"
   ]
  },
  {
   "cell_type": "code",
   "execution_count": 16,
   "metadata": {
    "slideshow": {
     "slide_type": "fragment"
    }
   },
   "outputs": [
    {
     "output_type": "execute_result",
     "data": {
      "text/plain": [
       "   ID  age  Num_kids                                          Education  \\\n",
       "0   1   33         1  Tertiary education ( University or TAFE or equ...   \n",
       "1   4   38         3  Tertiary education ( University or TAFE or equ...   \n",
       "2   5   54         2  Tertiary education ( University or TAFE or equ...   \n",
       "3   6   38         2                                High School diploma   \n",
       "4   7   41         1                                High School diploma   \n",
       "\n",
       "  pre_employment_Status                                  partnered mat_leave  \\\n",
       "0        Full time work                                     Single        No   \n",
       "1        Full time work                                     Single        No   \n",
       "2        Full time work                                     Single        No   \n",
       "3        Full time work  Partner ( Husband/Wife, De-facto partner)        No   \n",
       "4        Full time work  Partner ( Husband/Wife, De-facto partner)        No   \n",
       "\n",
       "                            mat_leave_eligability CCS_eligability  \\\n",
       "0  Yes- with some paid leave provided by Employer             Yes   \n",
       "1                                              No             Yes   \n",
       "2  Yes- with some paid leave provided by Employer              No   \n",
       "3  Yes- with some paid leave provided by Employer             Yes   \n",
       "4  Yes- with some paid leave provided by Employer              No   \n",
       "\n",
       "                   help returned  \n",
       "0  Yes - Scheduled help      Yes  \n",
       "1   Yes- As needed help      Yes  \n",
       "2                    No       No  \n",
       "3                    No      Yes  \n",
       "4                    No      Yes  "
      ],
      "text/html": "<div>\n<style scoped>\n    .dataframe tbody tr th:only-of-type {\n        vertical-align: middle;\n    }\n\n    .dataframe tbody tr th {\n        vertical-align: top;\n    }\n\n    .dataframe thead th {\n        text-align: right;\n    }\n</style>\n<table border=\"1\" class=\"dataframe\">\n  <thead>\n    <tr style=\"text-align: right;\">\n      <th></th>\n      <th>ID</th>\n      <th>age</th>\n      <th>Num_kids</th>\n      <th>Education</th>\n      <th>pre_employment_Status</th>\n      <th>partnered</th>\n      <th>mat_leave</th>\n      <th>mat_leave_eligability</th>\n      <th>CCS_eligability</th>\n      <th>help</th>\n      <th>returned</th>\n    </tr>\n  </thead>\n  <tbody>\n    <tr>\n      <th>0</th>\n      <td>1</td>\n      <td>33</td>\n      <td>1</td>\n      <td>Tertiary education ( University or TAFE or equ...</td>\n      <td>Full time work</td>\n      <td>Single</td>\n      <td>No</td>\n      <td>Yes- with some paid leave provided by Employer</td>\n      <td>Yes</td>\n      <td>Yes - Scheduled help</td>\n      <td>Yes</td>\n    </tr>\n    <tr>\n      <th>1</th>\n      <td>4</td>\n      <td>38</td>\n      <td>3</td>\n      <td>Tertiary education ( University or TAFE or equ...</td>\n      <td>Full time work</td>\n      <td>Single</td>\n      <td>No</td>\n      <td>No</td>\n      <td>Yes</td>\n      <td>Yes- As needed help</td>\n      <td>Yes</td>\n    </tr>\n    <tr>\n      <th>2</th>\n      <td>5</td>\n      <td>54</td>\n      <td>2</td>\n      <td>Tertiary education ( University or TAFE or equ...</td>\n      <td>Full time work</td>\n      <td>Single</td>\n      <td>No</td>\n      <td>Yes- with some paid leave provided by Employer</td>\n      <td>No</td>\n      <td>No</td>\n      <td>No</td>\n    </tr>\n    <tr>\n      <th>3</th>\n      <td>6</td>\n      <td>38</td>\n      <td>2</td>\n      <td>High School diploma</td>\n      <td>Full time work</td>\n      <td>Partner ( Husband/Wife, De-facto partner)</td>\n      <td>No</td>\n      <td>Yes- with some paid leave provided by Employer</td>\n      <td>Yes</td>\n      <td>No</td>\n      <td>Yes</td>\n    </tr>\n    <tr>\n      <th>4</th>\n      <td>7</td>\n      <td>41</td>\n      <td>1</td>\n      <td>High School diploma</td>\n      <td>Full time work</td>\n      <td>Partner ( Husband/Wife, De-facto partner)</td>\n      <td>No</td>\n      <td>Yes- with some paid leave provided by Employer</td>\n      <td>No</td>\n      <td>No</td>\n      <td>Yes</td>\n    </tr>\n  </tbody>\n</table>\n</div>"
     },
     "metadata": {},
     "execution_count": 16
    }
   ],
   "source": [
    "survey = pd.read_csv(os.path.join( 'Resources', 'Cleaned_Survey.csv'))\n",
    "survey.head()"
   ]
  },
  {
   "cell_type": "code",
   "execution_count": 17,
   "metadata": {},
   "outputs": [
    {
     "output_type": "execute_result",
     "data": {
      "text/plain": [
       "Index(['ID', 'age', 'Num_kids', 'Education', 'pre_employment_Status',\n",
       "       'partnered', 'mat_leave', 'mat_leave_eligability', 'CCS_eligability',\n",
       "       'help', 'returned'],\n",
       "      dtype='object')"
      ]
     },
     "metadata": {},
     "execution_count": 17
    }
   ],
   "source": [
    "survey.columns"
   ]
  },
  {
   "cell_type": "code",
   "execution_count": 18,
   "metadata": {},
   "outputs": [
    {
     "output_type": "stream",
     "name": "stdout",
     "text": [
      "(86, 8) (86, 1)\n"
     ]
    }
   ],
   "source": [
    "# Assign X (data) and y (target)\n",
    "\n",
    "X = survey[[\"age\", \"Num_kids\", \"Education\", \"pre_employment_Status\", \"partnered\", \"mat_leave_eligability\", \"CCS_eligability\", \"help\"]]\n",
    "y = survey[\"returned\"].values.reshape(-1, 1)\n",
    "print(X.shape, y.shape)\n",
    "\n"
   ]
  },
  {
   "cell_type": "code",
   "execution_count": 19,
   "metadata": {},
   "outputs": [
    {
     "output_type": "execute_result",
     "data": {
      "text/plain": [
       "    age  Num_kids  Education_High School diploma  \\\n",
       "0    33         1                              0   \n",
       "1    38         3                              0   \n",
       "2    54         2                              0   \n",
       "3    38         2                              1   \n",
       "4    41         1                              1   \n",
       "..  ...       ...                            ...   \n",
       "81   33         3                              1   \n",
       "82   54         4                              0   \n",
       "83   42         2                              0   \n",
       "84   58         3                              0   \n",
       "85   30         2                              0   \n",
       "\n",
       "    Education_Master's or Doctorate  Education_None  \\\n",
       "0                                 0               0   \n",
       "1                                 0               0   \n",
       "2                                 0               0   \n",
       "3                                 0               0   \n",
       "4                                 0               0   \n",
       "..                              ...             ...   \n",
       "81                                0               0   \n",
       "82                                0               0   \n",
       "83                                0               0   \n",
       "84                                0               0   \n",
       "85                                0               0   \n",
       "\n",
       "    Education_Tertiary education ( University or TAFE or equivalent)  \\\n",
       "0                                                   1                  \n",
       "1                                                   1                  \n",
       "2                                                   1                  \n",
       "3                                                   0                  \n",
       "4                                                   0                  \n",
       "..                                                ...                  \n",
       "81                                                  0                  \n",
       "82                                                  1                  \n",
       "83                                                  1                  \n",
       "84                                                  1                  \n",
       "85                                                  1                  \n",
       "\n",
       "    pre_employment_Status_Casual work  pre_employment_Status_Full time work  \\\n",
       "0                                   0                                     1   \n",
       "1                                   0                                     1   \n",
       "2                                   0                                     1   \n",
       "3                                   0                                     1   \n",
       "4                                   0                                     1   \n",
       "..                                ...                                   ...   \n",
       "81                                  0                                     1   \n",
       "82                                  0                                     1   \n",
       "83                                  0                                     1   \n",
       "84                                  0                                     1   \n",
       "85                                  0                                     1   \n",
       "\n",
       "    pre_employment_Status_Part time work  pre_employment_Status_Unemployed  \\\n",
       "0                                      0                                 0   \n",
       "1                                      0                                 0   \n",
       "2                                      0                                 0   \n",
       "3                                      0                                 0   \n",
       "4                                      0                                 0   \n",
       "..                                   ...                               ...   \n",
       "81                                     0                                 0   \n",
       "82                                     0                                 0   \n",
       "83                                     0                                 0   \n",
       "84                                     0                                 0   \n",
       "85                                     0                                 0   \n",
       "\n",
       "    partnered_Partner ( Husband/Wife, De-facto partner)  partnered_Single  \\\n",
       "0                                                   0                   1   \n",
       "1                                                   0                   1   \n",
       "2                                                   0                   1   \n",
       "3                                                   1                   0   \n",
       "4                                                   1                   0   \n",
       "..                                                ...                 ...   \n",
       "81                                                  1                   0   \n",
       "82                                                  1                   0   \n",
       "83                                                  1                   0   \n",
       "84                                                  1                   0   \n",
       "85                                                  1                   0   \n",
       "\n",
       "    mat_leave_eligability_No  \\\n",
       "0                          0   \n",
       "1                          1   \n",
       "2                          0   \n",
       "3                          0   \n",
       "4                          0   \n",
       "..                       ...   \n",
       "81                         0   \n",
       "82                         1   \n",
       "83                         0   \n",
       "84                         0   \n",
       "85                         0   \n",
       "\n",
       "    mat_leave_eligability_Yes - Unpaid (excludes govt Maternity pay)  \\\n",
       "0                                                   0                  \n",
       "1                                                   0                  \n",
       "2                                                   0                  \n",
       "3                                                   0                  \n",
       "4                                                   0                  \n",
       "..                                                ...                  \n",
       "81                                                  1                  \n",
       "82                                                  0                  \n",
       "83                                                  0                  \n",
       "84                                                  0                  \n",
       "85                                                  1                  \n",
       "\n",
       "    mat_leave_eligability_Yes- with some paid leave provided by Employer  \\\n",
       "0                                                   1                      \n",
       "1                                                   0                      \n",
       "2                                                   1                      \n",
       "3                                                   1                      \n",
       "4                                                   1                      \n",
       "..                                                ...                      \n",
       "81                                                  0                      \n",
       "82                                                  0                      \n",
       "83                                                  1                      \n",
       "84                                                  1                      \n",
       "85                                                  0                      \n",
       "\n",
       "    CCS_eligability_No  CCS_eligability_Yes  help_No  \\\n",
       "0                    0                    1        0   \n",
       "1                    0                    1        0   \n",
       "2                    1                    0        1   \n",
       "3                    0                    1        1   \n",
       "4                    1                    0        1   \n",
       "..                 ...                  ...      ...   \n",
       "81                   0                    1        0   \n",
       "82                   1                    0        0   \n",
       "83                   1                    0        0   \n",
       "84                   1                    0        1   \n",
       "85                   0                    1        0   \n",
       "\n",
       "    help_Yes - Scheduled help  help_Yes- As needed help  \n",
       "0                           1                         0  \n",
       "1                           0                         1  \n",
       "2                           0                         0  \n",
       "3                           0                         0  \n",
       "4                           0                         0  \n",
       "..                        ...                       ...  \n",
       "81                          0                         1  \n",
       "82                          0                         1  \n",
       "83                          0                         1  \n",
       "84                          0                         0  \n",
       "85                          0                         1  \n",
       "\n",
       "[86 rows x 20 columns]"
      ],
      "text/html": "<div>\n<style scoped>\n    .dataframe tbody tr th:only-of-type {\n        vertical-align: middle;\n    }\n\n    .dataframe tbody tr th {\n        vertical-align: top;\n    }\n\n    .dataframe thead th {\n        text-align: right;\n    }\n</style>\n<table border=\"1\" class=\"dataframe\">\n  <thead>\n    <tr style=\"text-align: right;\">\n      <th></th>\n      <th>age</th>\n      <th>Num_kids</th>\n      <th>Education_High School diploma</th>\n      <th>Education_Master's or Doctorate</th>\n      <th>Education_None</th>\n      <th>Education_Tertiary education ( University or TAFE or equivalent)</th>\n      <th>pre_employment_Status_Casual work</th>\n      <th>pre_employment_Status_Full time work</th>\n      <th>pre_employment_Status_Part time work</th>\n      <th>pre_employment_Status_Unemployed</th>\n      <th>partnered_Partner ( Husband/Wife, De-facto partner)</th>\n      <th>partnered_Single</th>\n      <th>mat_leave_eligability_No</th>\n      <th>mat_leave_eligability_Yes - Unpaid (excludes govt Maternity pay)</th>\n      <th>mat_leave_eligability_Yes- with some paid leave provided by Employer</th>\n      <th>CCS_eligability_No</th>\n      <th>CCS_eligability_Yes</th>\n      <th>help_No</th>\n      <th>help_Yes - Scheduled help</th>\n      <th>help_Yes- As needed help</th>\n    </tr>\n  </thead>\n  <tbody>\n    <tr>\n      <th>0</th>\n      <td>33</td>\n      <td>1</td>\n      <td>0</td>\n      <td>0</td>\n      <td>0</td>\n      <td>1</td>\n      <td>0</td>\n      <td>1</td>\n      <td>0</td>\n      <td>0</td>\n      <td>0</td>\n      <td>1</td>\n      <td>0</td>\n      <td>0</td>\n      <td>1</td>\n      <td>0</td>\n      <td>1</td>\n      <td>0</td>\n      <td>1</td>\n      <td>0</td>\n    </tr>\n    <tr>\n      <th>1</th>\n      <td>38</td>\n      <td>3</td>\n      <td>0</td>\n      <td>0</td>\n      <td>0</td>\n      <td>1</td>\n      <td>0</td>\n      <td>1</td>\n      <td>0</td>\n      <td>0</td>\n      <td>0</td>\n      <td>1</td>\n      <td>1</td>\n      <td>0</td>\n      <td>0</td>\n      <td>0</td>\n      <td>1</td>\n      <td>0</td>\n      <td>0</td>\n      <td>1</td>\n    </tr>\n    <tr>\n      <th>2</th>\n      <td>54</td>\n      <td>2</td>\n      <td>0</td>\n      <td>0</td>\n      <td>0</td>\n      <td>1</td>\n      <td>0</td>\n      <td>1</td>\n      <td>0</td>\n      <td>0</td>\n      <td>0</td>\n      <td>1</td>\n      <td>0</td>\n      <td>0</td>\n      <td>1</td>\n      <td>1</td>\n      <td>0</td>\n      <td>1</td>\n      <td>0</td>\n      <td>0</td>\n    </tr>\n    <tr>\n      <th>3</th>\n      <td>38</td>\n      <td>2</td>\n      <td>1</td>\n      <td>0</td>\n      <td>0</td>\n      <td>0</td>\n      <td>0</td>\n      <td>1</td>\n      <td>0</td>\n      <td>0</td>\n      <td>1</td>\n      <td>0</td>\n      <td>0</td>\n      <td>0</td>\n      <td>1</td>\n      <td>0</td>\n      <td>1</td>\n      <td>1</td>\n      <td>0</td>\n      <td>0</td>\n    </tr>\n    <tr>\n      <th>4</th>\n      <td>41</td>\n      <td>1</td>\n      <td>1</td>\n      <td>0</td>\n      <td>0</td>\n      <td>0</td>\n      <td>0</td>\n      <td>1</td>\n      <td>0</td>\n      <td>0</td>\n      <td>1</td>\n      <td>0</td>\n      <td>0</td>\n      <td>0</td>\n      <td>1</td>\n      <td>1</td>\n      <td>0</td>\n      <td>1</td>\n      <td>0</td>\n      <td>0</td>\n    </tr>\n    <tr>\n      <th>...</th>\n      <td>...</td>\n      <td>...</td>\n      <td>...</td>\n      <td>...</td>\n      <td>...</td>\n      <td>...</td>\n      <td>...</td>\n      <td>...</td>\n      <td>...</td>\n      <td>...</td>\n      <td>...</td>\n      <td>...</td>\n      <td>...</td>\n      <td>...</td>\n      <td>...</td>\n      <td>...</td>\n      <td>...</td>\n      <td>...</td>\n      <td>...</td>\n      <td>...</td>\n    </tr>\n    <tr>\n      <th>81</th>\n      <td>33</td>\n      <td>3</td>\n      <td>1</td>\n      <td>0</td>\n      <td>0</td>\n      <td>0</td>\n      <td>0</td>\n      <td>1</td>\n      <td>0</td>\n      <td>0</td>\n      <td>1</td>\n      <td>0</td>\n      <td>0</td>\n      <td>1</td>\n      <td>0</td>\n      <td>0</td>\n      <td>1</td>\n      <td>0</td>\n      <td>0</td>\n      <td>1</td>\n    </tr>\n    <tr>\n      <th>82</th>\n      <td>54</td>\n      <td>4</td>\n      <td>0</td>\n      <td>0</td>\n      <td>0</td>\n      <td>1</td>\n      <td>0</td>\n      <td>1</td>\n      <td>0</td>\n      <td>0</td>\n      <td>1</td>\n      <td>0</td>\n      <td>1</td>\n      <td>0</td>\n      <td>0</td>\n      <td>1</td>\n      <td>0</td>\n      <td>0</td>\n      <td>0</td>\n      <td>1</td>\n    </tr>\n    <tr>\n      <th>83</th>\n      <td>42</td>\n      <td>2</td>\n      <td>0</td>\n      <td>0</td>\n      <td>0</td>\n      <td>1</td>\n      <td>0</td>\n      <td>1</td>\n      <td>0</td>\n      <td>0</td>\n      <td>1</td>\n      <td>0</td>\n      <td>0</td>\n      <td>0</td>\n      <td>1</td>\n      <td>1</td>\n      <td>0</td>\n      <td>0</td>\n      <td>0</td>\n      <td>1</td>\n    </tr>\n    <tr>\n      <th>84</th>\n      <td>58</td>\n      <td>3</td>\n      <td>0</td>\n      <td>0</td>\n      <td>0</td>\n      <td>1</td>\n      <td>0</td>\n      <td>1</td>\n      <td>0</td>\n      <td>0</td>\n      <td>1</td>\n      <td>0</td>\n      <td>0</td>\n      <td>0</td>\n      <td>1</td>\n      <td>1</td>\n      <td>0</td>\n      <td>1</td>\n      <td>0</td>\n      <td>0</td>\n    </tr>\n    <tr>\n      <th>85</th>\n      <td>30</td>\n      <td>2</td>\n      <td>0</td>\n      <td>0</td>\n      <td>0</td>\n      <td>1</td>\n      <td>0</td>\n      <td>1</td>\n      <td>0</td>\n      <td>0</td>\n      <td>1</td>\n      <td>0</td>\n      <td>0</td>\n      <td>1</td>\n      <td>0</td>\n      <td>0</td>\n      <td>1</td>\n      <td>0</td>\n      <td>0</td>\n      <td>1</td>\n    </tr>\n  </tbody>\n</table>\n<p>86 rows × 20 columns</p>\n</div>"
     },
     "metadata": {},
     "execution_count": 19
    }
   ],
   "source": [
    "\n",
    "X = pd.get_dummies(X)\n",
    "\n",
    "X\n",
    "\n"
   ]
  },
  {
   "cell_type": "markdown",
   "metadata": {
    "slideshow": {
     "slide_type": "subslide"
    }
   },
   "source": [
    "Split our data into training and testing"
   ]
  },
  {
   "cell_type": "code",
   "execution_count": 24,
   "metadata": {
    "collapsed": true,
    "jupyter": {
     "outputs_hidden": true
    },
    "nbgrader": {
     "grade": false,
     "grade_id": "cell-711a82d9b32c83ff",
     "locked": false,
     "schema_version": 1,
     "solution": true
    },
    "slideshow": {
     "slide_type": "fragment"
    }
   },
   "outputs": [],
   "source": [
    "from sklearn.model_selection import train_test_split\n",
    "\n",
    "X_train, X_test, y_train, y_test = train_test_split(X, y)"
   ]
  },
  {
   "cell_type": "code",
   "execution_count": 12,
   "metadata": {},
   "outputs": [],
   "source": [
    "# from sklearn.preprocessing import StandardScaler\n",
    "# X_scaler = StandardScaler().fit(X_train)\n",
    "# y_scaler = StandardScaler().fit(y_train)\n",
    "\n",
    "# X_train_scaled = X_scaler.transform(X_train)\n",
    "# X_test_scaled = X_scaler.transform(X_test)\n",
    "# y_train_scaled = y_scaler.transform(y_train)\n",
    "# y_test_scaled = y_scaler.transform(y_test)"
   ]
  },
  {
   "cell_type": "markdown",
   "metadata": {
    "slideshow": {
     "slide_type": "subslide"
    }
   },
   "source": [
    "Create a Logistic Regression Model"
   ]
  },
  {
   "cell_type": "code",
   "execution_count": 25,
   "metadata": {
    "nbgrader": {
     "grade": false,
     "grade_id": "cell-b83ce1d2dcf17fbd",
     "locked": false,
     "schema_version": 1,
     "solution": true
    },
    "slideshow": {
     "slide_type": "fragment"
    }
   },
   "outputs": [
    {
     "output_type": "execute_result",
     "data": {
      "text/plain": [
       "LogisticRegression()"
      ]
     },
     "metadata": {},
     "execution_count": 25
    }
   ],
   "source": [
    "from sklearn.linear_model import LogisticRegression\n",
    "classifier = LogisticRegression()\n",
    "classifier"
   ]
  },
  {
   "cell_type": "markdown",
   "metadata": {
    "slideshow": {
     "slide_type": "subslide"
    }
   },
   "source": [
    "Fit (train) or model using the training data"
   ]
  },
  {
   "cell_type": "code",
   "execution_count": 26,
   "metadata": {
    "nbgrader": {
     "grade": false,
     "grade_id": "cell-fa6356c0ca7e4ead",
     "locked": false,
     "schema_version": 1,
     "solution": true
    },
    "slideshow": {
     "slide_type": "fragment"
    }
   },
   "outputs": [
    {
     "output_type": "execute_result",
     "data": {
      "text/plain": [
       "LogisticRegression()"
      ]
     },
     "metadata": {},
     "execution_count": 26
    }
   ],
   "source": [
    "classifier.fit(X_train, y_train)"
   ]
  },
  {
   "cell_type": "markdown",
   "metadata": {
    "slideshow": {
     "slide_type": "subslide"
    }
   },
   "source": [
    "Validate the model using the test data"
   ]
  },
  {
   "cell_type": "code",
   "execution_count": 27,
   "metadata": {
    "nbgrader": {
     "grade": false,
     "grade_id": "cell-b00f331fda900e0a",
     "locked": false,
     "schema_version": 1,
     "solution": true
    },
    "slideshow": {
     "slide_type": "fragment"
    }
   },
   "outputs": [
    {
     "output_type": "stream",
     "name": "stdout",
     "text": [
      "Training Data Score: 0.921875\nTesting Data Score: 0.9090909090909091\n"
     ]
    }
   ],
   "source": [
    "print(f\"Training Data Score: {classifier.score(X_train, y_train)}\")\n",
    "print(f\"Testing Data Score: {classifier.score(X_test, y_test)}\")"
   ]
  },
  {
   "cell_type": "markdown",
   "metadata": {
    "slideshow": {
     "slide_type": "subslide"
    }
   },
   "source": [
    "Make predictions"
   ]
  },
  {
   "cell_type": "code",
   "execution_count": 28,
   "metadata": {
    "nbgrader": {
     "grade": false,
     "grade_id": "cell-f97eb3e97245187b",
     "locked": false,
     "schema_version": 1,
     "solution": true
    },
    "slideshow": {
     "slide_type": "fragment"
    }
   },
   "outputs": [
    {
     "output_type": "stream",
     "name": "stdout",
     "text": [
      "First 10 Predictions:   ['Yes' 'Yes' 'Yes' 'Yes' 'Yes' 'Yes' 'Yes' 'Yes' 'Yes' 'Yes']\nFirst 10 Actual labels: [['Yes'], ['Yes'], ['Yes'], ['Yes'], ['Yes'], ['Yes'], ['Yes'], ['Yes'], ['Yes'], ['Yes']]\n"
     ]
    }
   ],
   "source": [
    "predictions = classifier.predict(X_test)\n",
    "print(f\"First 10 Predictions:   {predictions[:10]}\")\n",
    "print(f\"First 10 Actual labels: {y_test[:10].tolist()}\")"
   ]
  },
  {
   "cell_type": "code",
   "execution_count": null,
   "metadata": {},
   "outputs": [],
   "source": []
  }
 ],
 "metadata": {
  "kernelspec": {
   "display_name": "Python 3",
   "language": "python",
   "name": "python3"
  },
  "language_info": {
   "codemirror_mode": {
    "name": "ipython",
    "version": 3
   },
   "file_extension": ".py",
   "mimetype": "text/x-python",
   "name": "python",
   "nbconvert_exporter": "python",
   "pygments_lexer": "ipython3",
   "version": "3.7.7-final"
  },
  "varInspector": {
   "cols": {
    "lenName": 16,
    "lenType": 16,
    "lenVar": 40
   },
   "kernels_config": {
    "python": {
     "delete_cmd_postfix": "",
     "delete_cmd_prefix": "del ",
     "library": "var_list.py",
     "varRefreshCmd": "print(var_dic_list())"
    },
    "r": {
     "delete_cmd_postfix": ") ",
     "delete_cmd_prefix": "rm(",
     "library": "var_list.r",
     "varRefreshCmd": "cat(var_dic_list()) "
    }
   },
   "types_to_exclude": [
    "module",
    "function",
    "builtin_function_or_method",
    "instance",
    "_Feature"
   ],
   "window_display": false
  }
 },
 "nbformat": 4,
 "nbformat_minor": 4
}