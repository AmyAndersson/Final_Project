{
 "cells": [
  {
   "cell_type": "code",
   "execution_count": 1,
   "metadata": {
    "collapsed": true,
    "jupyter": {
     "outputs_hidden": true
    },
    "slideshow": {
     "slide_type": "subslide"
    }
   },
   "outputs": [],
   "source": [
    "%matplotlib inline\n",
    "import matplotlib.pyplot as plt\n",
    "import pandas as pd\n",
    "import os"
   ]
  },
  {
   "cell_type": "markdown",
   "metadata": {},
   "source": [
    "DATA SURVEY"
   ]
  },
  {
   "cell_type": "code",
   "execution_count": 3,
   "metadata": {
    "slideshow": {
     "slide_type": "fragment"
    }
   },
   "outputs": [
    {
     "output_type": "execute_result",
     "data": {
      "text/plain": [
       "   ID  age  Num_kids                                          Education  \\\n",
       "0   6   36         2  Tertiary education ( University or TAFE or equ...   \n",
       "1  10   33         1  Tertiary education ( University or TAFE or equ...   \n",
       "2  11   32         1  Tertiary education ( University or TAFE or equ...   \n",
       "3  13   38         3  Tertiary education ( University or TAFE or equ...   \n",
       "4  14   54         2  Tertiary education ( University or TAFE or equ...   \n",
       "\n",
       "  pre_employment_Status                                  partnered mat_leave  \\\n",
       "0        Full time work  Partner ( Husband/Wife, De-facto partner)        No   \n",
       "1        Full time work                                     Single        No   \n",
       "2        Part time work  Partner ( Husband/Wife, De-facto partner)        No   \n",
       "3        Full time work                                     Single        No   \n",
       "4        Full time work                                     Single        No   \n",
       "\n",
       "                            mat_leave_eligability CCS_eligability  \\\n",
       "0  Yes- with some paid leave provided by Employer              No   \n",
       "1  Yes- with some paid leave provided by Employer             Yes   \n",
       "2                                              No              No   \n",
       "3                                              No             Yes   \n",
       "4  Yes- with some paid leave provided by Employer              No   \n",
       "\n",
       "                   help returned  \n",
       "0   Yes- As needed help      Yes  \n",
       "1  Yes - Scheduled help      Yes  \n",
       "2                    No       No  \n",
       "3   Yes- As needed help      Yes  \n",
       "4                    No       No  "
      ],
      "text/html": "<div>\n<style scoped>\n    .dataframe tbody tr th:only-of-type {\n        vertical-align: middle;\n    }\n\n    .dataframe tbody tr th {\n        vertical-align: top;\n    }\n\n    .dataframe thead th {\n        text-align: right;\n    }\n</style>\n<table border=\"1\" class=\"dataframe\">\n  <thead>\n    <tr style=\"text-align: right;\">\n      <th></th>\n      <th>ID</th>\n      <th>age</th>\n      <th>Num_kids</th>\n      <th>Education</th>\n      <th>pre_employment_Status</th>\n      <th>partnered</th>\n      <th>mat_leave</th>\n      <th>mat_leave_eligability</th>\n      <th>CCS_eligability</th>\n      <th>help</th>\n      <th>returned</th>\n    </tr>\n  </thead>\n  <tbody>\n    <tr>\n      <th>0</th>\n      <td>6</td>\n      <td>36</td>\n      <td>2</td>\n      <td>Tertiary education ( University or TAFE or equ...</td>\n      <td>Full time work</td>\n      <td>Partner ( Husband/Wife, De-facto partner)</td>\n      <td>No</td>\n      <td>Yes- with some paid leave provided by Employer</td>\n      <td>No</td>\n      <td>Yes- As needed help</td>\n      <td>Yes</td>\n    </tr>\n    <tr>\n      <th>1</th>\n      <td>10</td>\n      <td>33</td>\n      <td>1</td>\n      <td>Tertiary education ( University or TAFE or equ...</td>\n      <td>Full time work</td>\n      <td>Single</td>\n      <td>No</td>\n      <td>Yes- with some paid leave provided by Employer</td>\n      <td>Yes</td>\n      <td>Yes - Scheduled help</td>\n      <td>Yes</td>\n    </tr>\n    <tr>\n      <th>2</th>\n      <td>11</td>\n      <td>32</td>\n      <td>1</td>\n      <td>Tertiary education ( University or TAFE or equ...</td>\n      <td>Part time work</td>\n      <td>Partner ( Husband/Wife, De-facto partner)</td>\n      <td>No</td>\n      <td>No</td>\n      <td>No</td>\n      <td>No</td>\n      <td>No</td>\n    </tr>\n    <tr>\n      <th>3</th>\n      <td>13</td>\n      <td>38</td>\n      <td>3</td>\n      <td>Tertiary education ( University or TAFE or equ...</td>\n      <td>Full time work</td>\n      <td>Single</td>\n      <td>No</td>\n      <td>No</td>\n      <td>Yes</td>\n      <td>Yes- As needed help</td>\n      <td>Yes</td>\n    </tr>\n    <tr>\n      <th>4</th>\n      <td>14</td>\n      <td>54</td>\n      <td>2</td>\n      <td>Tertiary education ( University or TAFE or equ...</td>\n      <td>Full time work</td>\n      <td>Single</td>\n      <td>No</td>\n      <td>Yes- with some paid leave provided by Employer</td>\n      <td>No</td>\n      <td>No</td>\n      <td>No</td>\n    </tr>\n  </tbody>\n</table>\n</div>"
     },
     "metadata": {},
     "execution_count": 3
    }
   ],
   "source": [
    "survey = pd.read_csv(os.path.join( 'Resources', 'Cleaned_Survey_slimmed.csv'))\n",
    "survey.head()"
   ]
  },
  {
   "cell_type": "code",
   "execution_count": 4,
   "metadata": {},
   "outputs": [
    {
     "output_type": "execute_result",
     "data": {
      "text/plain": [
       "Index(['ID', 'age', 'Num_kids', 'Education', 'pre_employment_Status',\n",
       "       'partnered', 'mat_leave', 'mat_leave_eligability', 'CCS_eligability',\n",
       "       'help', 'returned'],\n",
       "      dtype='object')"
      ]
     },
     "metadata": {},
     "execution_count": 4
    }
   ],
   "source": [
    "survey.columns"
   ]
  },
  {
   "cell_type": "code",
   "execution_count": 5,
   "metadata": {},
   "outputs": [
    {
     "output_type": "stream",
     "name": "stdout",
     "text": [
      "(40, 8) (40, 1)\n"
     ]
    }
   ],
   "source": [
    "# Assign X (data) and y (target)\n",
    "\n",
    "X = survey[[\"age\", \"Num_kids\", \"Education\", \"pre_employment_Status\", \"partnered\", \"mat_leave_eligability\", \"CCS_eligability\", \"help\"]]\n",
    "y = survey[\"returned\"].values.reshape(-1, 1)\n",
    "print(X.shape, y.shape)\n",
    "\n"
   ]
  },
  {
   "cell_type": "code",
   "execution_count": 6,
   "metadata": {},
   "outputs": [
    {
     "output_type": "execute_result",
     "data": {
      "text/plain": [
       "             0                                     0   \n",
       "3                                   0                                     1   \n",
       "4                                   0                                     1   \n",
       "5                                   0                                     1   \n",
       "6                                   0                                     1   \n",
       "7                                   0                                     1   \n",
       "8                                   0                                     0   \n",
       "9                                   0                                     1   \n",
       "10                                  1                                     0   \n",
       "11                                  0                                     1   \n",
       "12                                  0                                     1   \n",
       "13                                  0                                     0   \n",
       "14                                  0                                     1   \n",
       "15                                  0                                     1   \n",
       "16                                  0                                     0   \n",
       "17                                  0                                     1   \n",
       "18                                  0                                     1   \n",
       "19                                  0                                     1   \n",
       "20                                  0                                     1   \n",
       "21                                  0                                     1   \n",
       "22                                  0                                     1   \n",
       "23                                  0                                     1   \n",
       "24                                  0                                     1   \n",
       "25                                  0                                     1   \n",
       "26                                  0                                     1   \n",
       "27                                  0                                     1   \n",
       "28                                  0                                     1   \n",
       "29                                  0                                     1   \n",
       "30                                  0                                     1   \n",
       "31                                  0                                     1   \n",
       "32                                  0                                     1   \n",
       "33                                  0                                     1   \n",
       "34                                  0                                     1   \n",
       "35                                  0                                     1   \n",
       "36                                  0                                     1   \n",
       "37                                  0                                     1   \n",
       "38                                  0                                     1   \n",
       "39                                  1                                     0   \n",
       "\n",
       "    pre_employment_Status_Part time work  \\\n",
       "0                                      0   \n",
       "1                                      0   \n",
       "2                                      1   \n",
       "3                                      0   \n",
       "4                                      0   \n",
       "5                                      0   \n",
       "6                                      0   \n",
       "7                                      0   \n",
       "8                                      1   \n",
       "9                                      0   \n",
       "10                                     0   \n",
       "11                                     0   \n",
       "12                                     0   \n",
       "13                                     1   \n",
       "14                                     0   \n",
       "15                                     0   \n",
       "16                                     1   \n",
       "17                                     0   \n",
       "18                                     0   \n",
       "19                                     0   \n",
       "20                                     0   \n",
       "21                                     0   \n",
       "22                                     0   \n",
       "23                                     0   \n",
       "24                                     0   \n",
       "25                                     0   \n",
       "26                                     0   \n",
       "27                                     0   \n",
       "28                                     0   \n",
       "29                                     0   \n",
       "30                                     0   \n",
       "31                                     0   \n",
       "32                                     0   \n",
       "33                                     0   \n",
       "34                                     0   \n",
       "35                                     0   \n",
       "36                                     0   \n",
       "37                                     0   \n",
       "38                                     0   \n",
       "39                                     0   \n",
       "\n",
       "    partnered_Partner ( Husband/Wife, De-facto partner)  partnered_Single  \\\n",
       "0                                                   1                   0   \n",
       "1                                                   0                   1   \n",
       "2                                                   1                   0   \n",
       "3                                                   0                   1   \n",
       "4                                                   0                   1   \n",
       "5                                                   1                   0   \n",
       "6                                                   1                   0   \n",
       "7                                                   1                   0   \n",
       "8                                                   1                   0   \n",
       "9                                                   1                   0   \n",
       "10                                                  0                   1   \n",
       "11                                                  1                   0   \n",
       "12                                                  1                   0   \n",
       "13                                                  0                   1   \n",
       "14                                                  1                   0   \n",
       "15                                                  1                   0   \n",
       "16                                                  1                   0   \n",
       "17                                                  1                   0   \n",
       "18                                                  1                   0   \n",
       "19                                                  1                   0   \n",
       "20                                                  1                   0   \n",
       "21                                                  1                   0   \n",
       "22                                                  1                   0   \n",
       "23                                                  1                   0   \n",
       "24                                                  1                   0   \n",
       "25                                                  1                   0   \n",
       "26                                                  1                   0   \n",
       "27                                                  1                   0   \n",
       "28                                                  1                   0   \n",
       "29                                                  1                   0   \n",
       "30                                                  1                   0   \n",
       "31                                                  1                   0   \n",
       "32                                                  1                   0   \n",
       "33                                                  1                   0   \n",
       "34                                                  1                   0   \n",
       "35                                                  1                   0   \n",
       "36                                                  1                   0   \n",
       "37                                                  1                   0   \n",
       "38                                                  1                   0   \n",
       "39                                                  1                   0   \n",
       "\n",
       "    mat_leave_eligability_No  \\\n",
       "0                          0   \n",
       "1                          0   \n",
       "2                          1   \n",
       "3                          1   \n",
       "4                          0   \n",
       "5                          0   \n",
       "6                          0   \n",
       "7                          0   \n",
       "8                          0   \n",
       "9                          1   \n",
       "10                         1   \n",
       "11                         0   \n",
       "12                         0   \n",
       "13                         1   \n",
       "14                         0   \n",
       "15                         0   \n",
       "16                         0   \n",
       "17                         0   \n",
       "18                         0   \n",
       "19                         1   \n",
       "20                         0   \n",
       "21                         0   \n",
       "22                         1   \n",
       "23                         0   \n",
       "24                         1   \n",
       "25                         0   \n",
       "26                         0   \n",
       "27                         0   \n",
       "28                         0   \n",
       "29                         0   \n",
       "30                         0   \n",
       "31                         0   \n",
       "32                         0   \n",
       "33                         0   \n",
       "34                         1   \n",
       "35                         0   \n",
       "36                         1   \n",
       "37                         0   \n",
       "38                         0   \n",
       "39                         1   \n",
       "\n",
       "    mat_leave_eligability_Yes - Unpaid (excludes govt Maternity pay)  \\\n",
       "0                                                   0                  \n",
       "1                                                   0                  \n",
       "2                                                   0                  \n",
       "3                                                   0                  \n",
       "4                                                   0                  \n",
       "5                                                   0                  \n",
       "6                                                   0                  \n",
       "7                                                   1                  \n",
       "8                                                   0                  \n",
       "9                                                   0                  \n",
       "10                                                  0                  \n",
       "11                                                  1                  \n",
       "12                                                  0                  \n",
       "13                                                  0                  \n",
       "14                                                  0                  \n",
       "15                                                  1                  \n",
       "16                                                  0                  \n",
       "17                                                  0                  \n",
       "18                                                  1                  \n",
       "19                                                  0                  \n",
       "20                                                  0                  \n",
       "21                                                  0                  \n",
       "22                                                  0                  \n",
       "23                                                  0                  \n",
       "24                                                  0                  \n",
       "25                                                  0                  \n",
       "26                                                  0                  \n",
       "27                                                  0                  \n",
       "28                                                  0                  \n",
       "29                                                  1                  \n",
       "30                                                  0                  \n",
       "31                                                  0                  \n",
       "32                                                  0                  \n",
       "33                                                  1                  \n",
       "34                                                  0                  \n",
       "35                                                  1                  \n",
       "36                                                  0                  \n",
       "37                                                  0                  \n",
       "38                                                  0                  \n",
       "39                                                  0                  \n",
       "\n",
       "    mat_leave_eligability_Yes- with some paid leave provided by Employer  \\\n",
       "0                                                   1                      \n",
       "1                                                   1                      \n",
       "2                                                   0                      \n",
       "3                                                   0                      \n",
       "4                                                   1                      \n",
       "5                                                   1                      \n",
       "6                                                   1                      \n",
       "7                                                   0                      \n",
       "8                                                   1                      \n",
       "9                                                   0                      \n",
       "10                                                  0                      \n",
       "11                                                  0                      \n",
       "12                                                  1                      \n",
       "13                                                  0                      \n",
       "14                                                  1                      \n",
       "15                                                  0                      \n",
       "16                                                  1                      \n",
       "17                                                  1                      \n",
       "18                                                  0                      \n",
       "19                                                  0                      \n",
       "20                                                  1                      \n",
       "21                                                  1                      \n",
       "22                                                  0                      \n",
       "23                                                  1                      \n",
       "24                                                  0                      \n",
       "25                                                  1                      \n",
       "26                                                  1                      \n",
       "27                                                  1                      \n",
       "28                                                  1                      \n",
       "29                                                  0                      \n",
       "30                                                  1                      \n",
       "31                                                  1                      \n",
       "32                                                  1                      \n",
       "33                                                  0                      \n",
       "34                                                  0                      \n",
       "35                                                  0                      \n",
       "36                                                  0                      \n",
       "37                                                  1                      \n",
       "38                                                  1                      \n",
       "39                                                  0                      \n",
       "\n",
       "    CCS_eligability_No  CCS_eligability_Yes  help_No  \\\n",
       "0                    1                    0        0   \n",
       "1                    0                    1        0   \n",
       "2                    1                    0        1   \n",
       "3                    0                    1        0   \n",
       "4                    1                    0        1   \n",
       "5                    0                    1        1   \n",
       "6                    1                    0        1   \n",
       "7                    1                    0        1   \n",
       "8                    0                    1        1   \n",
       "9                    1                    0        1   \n",
       "10                   1                    0        0   \n",
       "11                   0                    1        0   \n",
       "12                   0                    1        0   \n",
       "13                   0                    1        0   \n",
       "14                   0                    1        0   \n",
       "15                   1                    0        0   \n",
       "16                   0                    1        1   \n",
       "17                   1                    0        1   \n",
       "18                   1                    0        0   \n",
       "19                   1                    0        1   \n",
       "20                   0                    1        1   \n",
       "21                   1                    0        1   \n",
       "22                   0                    1        1   \n",
       "23                   1                    0        0   \n",
       "24                   1                    0        0   \n",
       "25                   0                    1        0   \n",
       "26                   0                    1        0   \n",
       "27                   0                    1        0   \n",
       "28                   0                    1        1   \n",
       "29                   0                    1        1   \n",
       "30                   0                    1        1   \n",
       "31                   0                    1        1   \n",
       "32                   0                    1        0   \n",
       "33                   0                    1        1   \n",
       "34                   1                    0        1   \n",
       "35                   1                    0        1   \n",
       "36                   0                    1        1   \n",
       "37                   1                    0        0   \n",
       "38                   1                    0        1   \n",
       "39                   1                    0        0   \n",
       "\n",
       "    help_Yes - Scheduled help  help_Yes- As needed help  \n",
       "0                           0                         1  \n",
       "1                           1                         0  \n",
       "2                           0                         0  \n",
       "3                           0                         1  \n",
       "4                           0                         0  \n",
       "5                           0                         0  \n",
       "6                           0                         0  \n",
       "7                           0                         0  \n",
       "8                           0                         0  \n",
       "9                           0                         0  \n",
       "10                          0                         1  \n",
       "11                          0                         1  \n",
       "12                          1                         0  \n",
       "13                          0                         1  \n",
       "14                          0                         1  \n",
       "15                          1                         0  \n",
       "16                          0                         0  \n",
       "17                          0                         0  \n",
       "18                          1                         0  \n",
       "19                          0                         0  \n",
       "20                          0                         0  \n",
       "21                          0                         0  \n",
       "22                          0                         0  \n",
       "23                          0                         1  \n",
       "24                          0                         1  \n",
       "25                          0                         1  \n",
       "26                          1                         0  \n",
       "27                          1                         0  \n",
       "28                          0                         0  \n",
       "29                          0                         0  \n",
       "30                          0                         0  \n",
       "31                          0                         0  \n",
       "32                          0                         1  \n",
       "33                          0                         0  \n",
       "34                          0                         0  \n",
       "35                          0                         0  \n",
       "36                          0                         0  \n",
       "37                          0                         1  \n",
       "38                          0                         0  \n",
       "39                          0                         1  "
      ],
      "text/html": "<div>\n<style scoped>\n    .dataframe tbody tr th:only-of-type {\n        vertical-align: middle;\n    }\n\n    .dataframe tbody tr th {\n        vertical-align: top;\n    }\n\n    .dataframe thead th {\n        text-align: right;\n    }\n</style>\n<table border=\"1\" class=\"dataframe\">\n  <thead>\n    <tr style=\"text-align: right;\">\n      <th></th>\n      <th>age</th>\n      <th>Num_kids</th>\n      <th>Education_High School diploma</th>\n      <th>Education_Master's or Doctorate</th>\n      <th>Education_None</th>\n      <th>Education_Tertiary education ( University or TAFE or equivalent)</th>\n      <th>pre_employment_Status_Casual work</th>\n      <th>pre_employment_Status_Full time work</th>\n      <th>pre_employment_Status_Part time work</th>\n      <th>partnered_Partner ( Husband/Wife, De-facto partner)</th>\n      <th>partnered_Single</th>\n      <th>mat_leave_eligability_No</th>\n      <th>mat_leave_eligability_Yes - Unpaid (excludes govt Maternity pay)</th>\n      <th>mat_leave_eligability_Yes- with some paid leave provided by Employer</th>\n      <th>CCS_eligability_No</th>\n      <th>CCS_eligability_Yes</th>\n      <th>help_No</th>\n      <th>help_Yes - Scheduled help</th>\n      <th>help_Yes- As needed help</th>\n    </tr>\n  </thead>\n  <tbody>\n    <tr>\n      <th>0</th>\n      <td>36</td>\n      <td>2</td>\n      <td>0</td>\n      <td>0</td>\n      <td>0</td>\n      <td>1</td>\n      <td>0</td>\n      <td>1</td>\n      <td>0</td>\n      <td>1</td>\n      <td>0</td>\n      <td>0</td>\n      <td>0</td>\n      <td>1</td>\n      <td>1</td>\n      <td>0</td>\n      <td>0</td>\n      <td>0</td>\n      <td>1</td>\n    </tr>\n    <tr>\n      <th>1</th>\n      <td>33</td>\n      <td>1</td>\n      <td>0</td>\n      <td>0</td>\n      <td>0</td>\n      <td>1</td>\n      <td>0</td>\n      <td>1</td>\n      <td>0</td>\n      <td>0</td>\n      <td>1</td>\n      <td>0</td>\n      <td>0</td>\n      <td>1</td>\n      <td>0</td>\n      <td>1</td>\n      <td>0</td>\n      <td>1</td>\n      <td>0</td>\n    </tr>\n    <tr>\n      <th>2</th>\n      <td>32</td>\n      <td>1</td>\n      <td>0</td>\n      <td>0</td>\n      <td>0</td>\n      <td>1</td>\n      <td>0</td>\n      <td>0</td>\n      <td>1</td>\n      <td>1</td>\n      <td>0</td>\n      <td>1</td>\n      <td>0</td>\n      <td>0</td>\n      <td>1</td>\n      <td>0</td>\n      <td>1</td>\n      <td>0</td>\n      <td>0</td>\n    </tr>\n    <tr>\n      <th>3</th>\n      <td>38</td>\n      <td>3</td>\n      <td>0</td>\n      <td>0</td>\n      <td>0</td>\n      <td>1</td>\n      <td>0</td>\n      <td>1</td>\n      <td>0</td>\n      <td>0</td>\n      <td>1</td>\n      <td>1</td>\n      <td>0</td>\n      <td>0</td>\n      <td>0</td>\n      <td>1</td>\n      <td>0</td>\n      <td>0</td>\n      <td>1</td>\n    </tr>\n    <tr>\n      <th>4</th>\n      <td>54</td>\n      <td>2</td>\n      <td>0</td>\n      <td>0</td>\n      <td>0</td>\n      <td>1</td>\n      <td>0</td>\n      <td>1</td>\n      <td>0</td>\n      <td>0</td>\n      <td>1</td>\n      <td>0</td>\n      <td>0</td>\n      <td>1</td>\n      <td>1</td>\n      <td>0</td>\n      <td>1</td>\n      <td>0</td>\n      <td>0</td>\n    </tr>\n    <tr>\n      <th>5</th>\n      <td>38</td>\n      <td>2</td>\n      <td>1</td>\n      <td>0</td>\n      <td>0</td>\n      <td>0</td>\n      <td>0</td>\n      <td>1</td>\n      <td>0</td>\n      <td>1</td>\n      <td>0</td>\n      <td>0</td>\n      <td>0</td>\n      <td>1</td>\n      <td>0</td>\n      <td>1</td>\n      <td>1</td>\n      <td>0</td>\n      <td>0</td>\n    </tr>\n    <tr>\n      <th>6</th>\n      <td>41</td>\n      <td>1</td>\n      <td>1</td>\n      <td>0</td>\n      <td>0</td>\n      <td>0</td>\n      <td>0</td>\n      <td>1</td>\n      <td>0</td>\n      <td>1</td>\n      <td>0</td>\n      <td>0</td>\n      <td>0</td>\n      <td>1</td>\n      <td>1</td>\n      <td>0</td>\n      <td>1</td>\n      <td>0</td>\n      <td>0</td>\n    </tr>\n    <tr>\n      <th>7</th>\n      <td>44</td>\n      <td>2</td>\n      <td>0</td>\n      <td>0</td>\n      <td>0</td>\n      <td>1</td>\n      <td>0</td>\n      <td>1</td>\n      <td>0</td>\n      <td>1</td>\n      <td>0</td>\n      <td>0</td>\n      <td>1</td>\n      <td>0</td>\n      <td>1</td>\n      <td>0</td>\n      <td>1</td>\n      <td>0</td>\n      <td>0</td>\n    </tr>\n    <tr>\n      <th>8</th>\n      <td>40</td>\n      <td>1</td>\n      <td>1</td>\n      <td>0</td>\n      <td>0</td>\n      <td>0</td>\n      <td>0</td>\n      <td>0</td>\n      <td>1</td>\n      <td>1</td>\n      <td>0</td>\n      <td>0</td>\n      <td>0</td>\n      <td>1</td>\n      <td>0</td>\n      <td>1</td>\n      <td>1</td>\n      <td>0</td>\n      <td>0</td>\n    </tr>\n    <tr>\n      <th>9</th>\n      <td>35</td>\n      <td>3</td>\n      <td>1</td>\n      <td>0</td>\n      <td>0</td>\n      <td>0</td>\n      <td>0</td>\n      <td>1</td>\n      <td>0</td>\n      <td>1</td>\n      <td>0</td>\n      <td>1</td>\n      <td>0</td>\n      <td>0</td>\n      <td>1</td>\n      <td>0</td>\n      <td>1</td>\n      <td>0</td>\n      <td>0</td>\n    </tr>\n    <tr>\n      <th>10</th>\n      <td>36</td>\n      <td>1</td>\n      <td>1</td>\n      <td>0</td>\n      <td>0</td>\n      <td>0</td>\n      <td>1</td>\n      <td>0</td>\n      <td>0</td>\n      <td>0</td>\n      <td>1</td>\n      <td>1</td>\n      <td>0</td>\n      <td>0</td>\n      <td>1</td>\n      <td>0</td>\n      <td>0</td>\n      <td>0</td>\n      <td>1</td>\n    </tr>\n    <tr>\n      <th>11</th>\n      <td>41</td>\n      <td>1</td>\n      <td>0</td>\n      <td>1</td>\n      <td>0</td>\n      <td>0</td>\n      <td>0</td>\n      <td>1</td>\n      <td>0</td>\n      <td>1</td>\n      <td>0</td>\n      <td>0</td>\n      <td>1</td>\n      <td>0</td>\n      <td>0</td>\n      <td>1</td>\n      <td>0</td>\n      <td>0</td>\n      <td>1</td>\n    </tr>\n    <tr>\n      <th>12</th>\n      <td>36</td>\n      <td>2</td>\n      <td>0</td>\n      <td>0</td>\n      <td>0</td>\n      <td>1</td>\n      <td>0</td>\n      <td>1</td>\n      <td>0</td>\n      <td>1</td>\n      <td>0</td>\n      <td>0</td>\n      <td>0</td>\n      <td>1</td>\n      <td>0</td>\n      <td>1</td>\n      <td>0</td>\n      <td>1</td>\n      <td>0</td>\n    </tr>\n    <tr>\n      <th>13</th>\n      <td>33</td>\n      <td>2</td>\n      <td>0</td>\n      <td>0</td>\n      <td>0</td>\n      <td>1</td>\n      <td>0</td>\n      <td>0</td>\n      <td>1</td>\n      <td>0</td>\n      <td>1</td>\n      <td>1</td>\n      <td>0</td>\n      <td>0</td>\n      <td>0</td>\n      <td>1</td>\n      <td>0</td>\n      <td>0</td>\n      <td>1</td>\n    </tr>\n    <tr>\n      <th>14</th>\n      <td>35</td>\n      <td>2</td>\n      <td>0</td>\n      <td>0</td>\n      <td>0</td>\n      <td>1</td>\n      <td>0</td>\n      <td>1</td>\n      <td>0</td>\n      <td>1</td>\n      <td>0</td>\n      <td>0</td>\n      <td>0</td>\n      <td>1</td>\n      <td>0</td>\n      <td>1</td>\n      <td>0</td>\n      <td>0</td>\n      <td>1</td>\n    </tr>\n    <tr>\n      <th>15</th>\n      <td>38</td>\n      <td>1</td>\n      <td>0</td>\n      <td>0</td>\n      <td>0</td>\n      <td>1</td>\n      <td>0</td>\n      <td>1</td>\n      <td>0</td>\n      <td>1</td>\n      <td>0</td>\n      <td>0</td>\n      <td>1</td>\n      <td>0</td>\n      <td>1</td>\n      <td>0</td>\n      <td>0</td>\n      <td>1</td>\n      <td>0</td>\n    </tr>\n    <tr>\n      <th>16</th>\n      <td>36</td>\n      <td>2</td>\n      <td>0</td>\n      <td>0</td>\n      <td>0</td>\n      <td>1</td>\n      <td>0</td>\n      <td>0</td>\n      <td>1</td>\n      <td>1</td>\n      <td>0</td>\n      <td>0</td>\n      <td>0</td>\n      <td>1</td>\n      <td>0</td>\n      <td>1</td>\n      <td>1</td>\n      <td>0</td>\n      <td>0</td>\n    </tr>\n    <tr>\n      <th>17</th>\n      <td>64</td>\n      <td>2</td>\n      <td>0</td>\n      <td>1</td>\n      <td>0</td>\n      <td>0</td>\n      <td>0</td>\n      <td>1</td>\n      <td>0</td>\n      <td>1</td>\n      <td>0</td>\n      <td>0</td>\n      <td>0</td>\n      <td>1</td>\n      <td>1</td>\n      <td>0</td>\n      <td>1</td>\n      <td>0</td>\n      <td>0</td>\n    </tr>\n    <tr>\n      <th>18</th>\n      <td>31</td>\n      <td>2</td>\n      <td>0</td>\n      <td>0</td>\n      <td>0</td>\n      <td>1</td>\n      <td>0</td>\n      <td>1</td>\n      <td>0</td>\n      <td>1</td>\n      <td>0</td>\n      <td>0</td>\n      <td>1</td>\n      <td>0</td>\n      <td>1</td>\n      <td>0</td>\n      <td>0</td>\n      <td>1</td>\n      <td>0</td>\n    </tr>\n    <tr>\n      <th>19</th>\n      <td>63</td>\n      <td>2</td>\n      <td>0</td>\n      <td>1</td>\n      <td>0</td>\n      <td>0</td>\n      <td>0</td>\n      <td>1</td>\n      <td>0</td>\n      <td>1</td>\n      <td>0</td>\n      <td>1</td>\n      <td>0</td>\n      <td>0</td>\n      <td>1</td>\n      <td>0</td>\n      <td>1</td>\n      <td>0</td>\n      <td>0</td>\n    </tr>\n    <tr>\n      <th>20</th>\n      <td>35</td>\n      <td>1</td>\n      <td>0</td>\n      <td>0</td>\n      <td>0</td>\n      <td>1</td>\n      <td>0</td>\n      <td>1</td>\n      <td>0</td>\n      <td>1</td>\n      <td>0</td>\n      <td>0</td>\n      <td>0</td>\n      <td>1</td>\n      <td>0</td>\n      <td>1</td>\n      <td>1</td>\n      <td>0</td>\n      <td>0</td>\n    </tr>\n    <tr>\n      <th>21</th>\n      <td>37</td>\n      <td>1</td>\n      <td>0</td>\n      <td>1</td>\n      <td>0</td>\n      <td>0</td>\n      <td>0</td>\n      <td>1</td>\n      <td>0</td>\n      <td>1</td>\n      <td>0</td>\n      <td>0</td>\n      <td>0</td>\n      <td>1</td>\n      <td>1</td>\n      <td>0</td>\n      <td>1</td>\n      <td>0</td>\n      <td>0</td>\n    </tr>\n    <tr>\n      <th>22</th>\n      <td>35</td>\n      <td>2</td>\n      <td>1</td>\n      <td>0</td>\n      <td>0</td>\n      <td>0</td>\n      <td>0</td>\n      <td>1</td>\n      <td>0</td>\n      <td>1</td>\n      <td>0</td>\n      <td>1</td>\n      <td>0</td>\n      <td>0</td>\n      <td>0</td>\n      <td>1</td>\n      <td>1</td>\n      <td>0</td>\n      <td>0</td>\n    </tr>\n    <tr>\n      <th>23</th>\n      <td>41</td>\n      <td>2</td>\n      <td>0</td>\n      <td>0</td>\n      <td>0</td>\n      <td>1</td>\n      <td>0</td>\n      <td>1</td>\n      <td>0</td>\n      <td>1</td>\n      <td>0</td>\n      <td>0</td>\n      <td>0</td>\n      <td>1</td>\n      <td>1</td>\n      <td>0</td>\n      <td>0</td>\n      <td>0</td>\n      <td>1</td>\n    </tr>\n    <tr>\n      <th>24</th>\n      <td>65</td>\n      <td>4</td>\n      <td>0</td>\n      <td>1</td>\n      <td>0</td>\n      <td>0</td>\n      <td>0</td>\n      <td>1</td>\n      <td>0</td>\n      <td>1</td>\n      <td>0</td>\n      <td>1</td>\n      <td>0</td>\n      <td>0</td>\n      <td>1</td>\n      <td>0</td>\n      <td>0</td>\n      <td>0</td>\n      <td>1</td>\n    </tr>\n    <tr>\n      <th>25</th>\n      <td>39</td>\n      <td>3</td>\n      <td>0</td>\n      <td>0</td>\n      <td>0</td>\n      <td>1</td>\n      <td>0</td>\n      <td>1</td>\n      <td>0</td>\n      <td>1</td>\n      <td>0</td>\n      <td>0</td>\n      <td>0</td>\n      <td>1</td>\n      <td>0</td>\n      <td>1</td>\n      <td>0</td>\n      <td>0</td>\n      <td>1</td>\n    </tr>\n    <tr>\n      <th>26</th>\n      <td>36</td>\n      <td>2</td>\n      <td>0</td>\n      <td>0</td>\n      <td>0</td>\n      <td>1</td>\n      <td>0</td>\n      <td>1</td>\n      <td>0</td>\n      <td>1</td>\n      <td>0</td>\n      <td>0</td>\n      <td>0</td>\n      <td>1</td>\n      <td>0</td>\n      <td>1</td>\n      <td>0</td>\n      <td>1</td>\n      <td>0</td>\n    </tr>\n    <tr>\n      <th>27</th>\n      <td>33</td>\n      <td>1</td>\n      <td>0</td>\n      <td>0</td>\n      <td>0</td>\n      <td>1</td>\n      <td>0</td>\n      <td>1</td>\n      <td>0</td>\n      <td>1</td>\n      <td>0</td>\n      <td>0</td>\n      <td>0</td>\n      <td>1</td>\n      <td>0</td>\n      <td>1</td>\n      <td>0</td>\n      <td>1</td>\n      <td>0</td>\n    </tr>\n    <tr>\n      <th>28</th>\n      <td>46</td>\n      <td>3</td>\n      <td>0</td>\n      <td>0</td>\n      <td>0</td>\n      <td>1</td>\n      <td>0</td>\n      <td>1</td>\n      <td>0</td>\n      <td>1</td>\n      <td>0</td>\n      <td>0</td>\n      <td>0</td>\n      <td>1</td>\n      <td>0</td>\n      <td>1</td>\n      <td>1</td>\n      <td>0</td>\n      <td>0</td>\n    </tr>\n    <tr>\n      <th>29</th>\n      <td>39</td>\n      <td>1</td>\n      <td>0</td>\n      <td>0</td>\n      <td>0</td>\n      <td>1</td>\n      <td>0</td>\n      <td>1</td>\n      <td>0</td>\n      <td>1</td>\n      <td>0</td>\n      <td>0</td>\n      <td>1</td>\n      <td>0</td>\n      <td>0</td>\n      <td>1</td>\n      <td>1</td>\n      <td>0</td>\n      <td>0</td>\n    </tr>\n    <tr>\n      <th>30</th>\n      <td>45</td>\n      <td>2</td>\n      <td>0</td>\n      <td>0</td>\n      <td>0</td>\n      <td>1</td>\n      <td>0</td>\n      <td>1</td>\n      <td>0</td>\n      <td>1</td>\n      <td>0</td>\n      <td>0</td>\n      <td>0</td>\n      <td>1</td>\n      <td>0</td>\n      <td>1</td>\n      <td>1</td>\n      <td>0</td>\n      <td>0</td>\n    </tr>\n    <tr>\n      <th>31</th>\n      <td>43</td>\n      <td>3</td>\n      <td>0</td>\n      <td>0</td>\n      <td>0</td>\n      <td>1</td>\n      <td>0</td>\n      <td>1</td>\n      <td>0</td>\n      <td>1</td>\n      <td>0</td>\n      <td>0</td>\n      <td>0</td>\n      <td>1</td>\n      <td>0</td>\n      <td>1</td>\n      <td>1</td>\n      <td>0</td>\n      <td>0</td>\n    </tr>\n    <tr>\n      <th>32</th>\n      <td>30</td>\n      <td>1</td>\n      <td>0</td>\n      <td>0</td>\n      <td>0</td>\n      <td>1</td>\n      <td>0</td>\n      <td>1</td>\n      <td>0</td>\n      <td>1</td>\n      <td>0</td>\n      <td>0</td>\n      <td>0</td>\n      <td>1</td>\n      <td>0</td>\n      <td>1</td>\n      <td>0</td>\n      <td>0</td>\n      <td>1</td>\n    </tr>\n    <tr>\n      <th>33</th>\n      <td>25</td>\n      <td>2</td>\n      <td>0</td>\n      <td>0</td>\n      <td>0</td>\n      <td>1</td>\n      <td>0</td>\n      <td>1</td>\n      <td>0</td>\n      <td>1</td>\n      <td>0</td>\n      <td>0</td>\n      <td>1</td>\n      <td>0</td>\n      <td>0</td>\n      <td>1</td>\n      <td>1</td>\n      <td>0</td>\n      <td>0</td>\n    </tr>\n    <tr>\n      <th>34</th>\n      <td>61</td>\n      <td>3</td>\n      <td>0</td>\n      <td>0</td>\n      <td>1</td>\n      <td>0</td>\n      <td>0</td>\n      <td>1</td>\n      <td>0</td>\n      <td>1</td>\n      <td>0</td>\n      <td>1</td>\n      <td>0</td>\n      <td>0</td>\n      <td>1</td>\n      <td>0</td>\n      <td>1</td>\n      <td>0</td>\n      <td>0</td>\n    </tr>\n    <tr>\n      <th>35</th>\n      <td>50</td>\n      <td>3</td>\n      <td>1</td>\n      <td>0</td>\n      <td>0</td>\n      <td>0</td>\n      <td>0</td>\n      <td>1</td>\n      <td>0</td>\n      <td>1</td>\n      <td>0</td>\n      <td>0</td>\n      <td>1</td>\n      <td>0</td>\n      <td>1</td>\n      <td>0</td>\n      <td>1</td>\n      <td>0</td>\n      <td>0</td>\n    </tr>\n    <tr>\n      <th>36</th>\n      <td>42</td>\n      <td>1</td>\n      <td>0</td>\n      <td>0</td>\n      <td>0</td>\n      <td>1</td>\n      <td>0</td>\n      <td>1</td>\n      <td>0</td>\n      <td>1</td>\n      <td>0</td>\n      <td>1</td>\n      <td>0</td>\n      <td>0</td>\n      <td>0</td>\n      <td>1</td>\n      <td>1</td>\n      <td>0</td>\n      <td>0</td>\n    </tr>\n    <tr>\n      <th>37</th>\n      <td>32</td>\n      <td>2</td>\n      <td>0</td>\n      <td>0</td>\n      <td>0</td>\n      <td>1</td>\n      <td>0</td>\n      <td>1</td>\n      <td>0</td>\n      <td>1</td>\n      <td>0</td>\n      <td>0</td>\n      <td>0</td>\n      <td>1</td>\n      <td>1</td>\n      <td>0</td>\n      <td>0</td>\n      <td>0</td>\n      <td>1</td>\n    </tr>\n    <tr>\n      <th>38</th>\n      <td>36</td>\n      <td>2</td>\n      <td>0</td>\n      <td>0</td>\n      <td>0</td>\n      <td>1</td>\n      <td>0</td>\n      <td>1</td>\n      <td>0</td>\n      <td>1</td>\n      <td>0</td>\n      <td>0</td>\n      <td>0</td>\n      <td>1</td>\n      <td>1</td>\n      <td>0</td>\n      <td>1</td>\n      <td>0</td>\n      <td>0</td>\n    </tr>\n    <tr>\n      <th>39</th>\n      <td>30</td>\n      <td>2</td>\n      <td>0</td>\n      <td>0</td>\n      <td>0</td>\n      <td>1</td>\n      <td>1</td>\n      <td>0</td>\n      <td>0</td>\n      <td>1</td>\n      <td>0</td>\n      <td>1</td>\n      <td>0</td>\n      <td>0</td>\n      <td>1</td>\n      <td>0</td>\n      <td>0</td>\n      <td>0</td>\n      <td>1</td>\n    </tr>\n  </tbody>\n</table>\n</div>"
     },
     "metadata": {},
     "execution_count": 6
    }
   ],
   "source": [
    "\n",
    "X = pd.get_dummies(X)\n",
    "\n",
    "X\n",
    "\n"
   ]
  },
  {
   "cell_type": "markdown",
   "metadata": {
    "slideshow": {
     "slide_type": "subslide"
    }
   },
   "source": [
    "Split our data into training and testing"
   ]
  },
  {
   "cell_type": "code",
   "execution_count": 7,
   "metadata": {
    "collapsed": true,
    "jupyter": {
     "outputs_hidden": true
    },
    "nbgrader": {
     "grade": false,
     "grade_id": "cell-711a82d9b32c83ff",
     "locked": false,
     "schema_version": 1,
     "solution": true
    },
    "slideshow": {
     "slide_type": "fragment"
    }
   },
   "outputs": [],
   "source": [
    "from sklearn.model_selection import train_test_split\n",
    "\n",
    "X_train, X_test, y_train, y_test = train_test_split(X, y)"
   ]
  },
  {
   "cell_type": "code",
   "execution_count": 12,
   "metadata": {},
   "outputs": [],
   "source": [
    "# from sklearn.preprocessing import StandardScaler\n",
    "# X_scaler = StandardScaler().fit(X_train)\n",
    "# y_scaler = StandardScaler().fit(y_train)\n",
    "\n",
    "# X_train_scaled = X_scaler.transform(X_train)\n",
    "# X_test_scaled = X_scaler.transform(X_test)\n",
    "# y_train_scaled = y_scaler.transform(y_train)\n",
    "# y_test_scaled = y_scaler.transform(y_test)"
   ]
  },
  {
   "cell_type": "markdown",
   "metadata": {
    "slideshow": {
     "slide_type": "subslide"
    }
   },
   "source": [
    "Create a Logistic Regression Model"
   ]
  },
  {
   "cell_type": "code",
   "execution_count": 8,
   "metadata": {
    "nbgrader": {
     "grade": false,
     "grade_id": "cell-b83ce1d2dcf17fbd",
     "locked": false,
     "schema_version": 1,
     "solution": true
    },
    "slideshow": {
     "slide_type": "fragment"
    }
   },
   "outputs": [
    {
     "output_type": "execute_result",
     "data": {
      "text/plain": [
       "LogisticRegression()"
      ]
     },
     "metadata": {},
     "execution_count": 8
    }
   ],
   "source": [
    "from sklearn.linear_model import LogisticRegression\n",
    "classifier = LogisticRegression()\n",
    "classifier"
   ]
  },
  {
   "cell_type": "markdown",
   "metadata": {
    "slideshow": {
     "slide_type": "subslide"
    }
   },
   "source": [
    "Fit (train) or model using the training data"
   ]
  },
  {
   "cell_type": "code",
   "execution_count": 9,
   "metadata": {
    "nbgrader": {
     "grade": false,
     "grade_id": "cell-fa6356c0ca7e4ead",
     "locked": false,
     "schema_version": 1,
     "solution": true
    },
    "slideshow": {
     "slide_type": "fragment"
    }
   },
   "outputs": [
    {
     "output_type": "execute_result",
     "data": {
      "text/plain": [
       "LogisticRegression()"
      ]
     },
     "metadata": {},
     "execution_count": 9
    }
   ],
   "source": [
    "classifier.fit(X_train, y_train)"
   ]
  },
  {
   "cell_type": "markdown",
   "metadata": {
    "slideshow": {
     "slide_type": "subslide"
    }
   },
   "source": [
    "Validate the model using the test data"
   ]
  },
  {
   "cell_type": "code",
   "execution_count": 10,
   "metadata": {
    "nbgrader": {
     "grade": false,
     "grade_id": "cell-b00f331fda900e0a",
     "locked": false,
     "schema_version": 1,
     "solution": true
    },
    "slideshow": {
     "slide_type": "fragment"
    }
   },
   "outputs": [
    {
     "output_type": "stream",
     "name": "stdout",
     "text": [
      "Training Data Score: 0.8\nTesting Data Score: 0.8\n"
     ]
    }
   ],
   "source": [
    "print(f\"Training Data Score: {classifier.score(X_train, y_train)}\")\n",
    "print(f\"Testing Data Score: {classifier.score(X_test, y_test)}\")"
   ]
  },
  {
   "cell_type": "markdown",
   "metadata": {
    "slideshow": {
     "slide_type": "subslide"
    }
   },
   "source": [
    "Make predictions"
   ]
  },
  {
   "cell_type": "code",
   "execution_count": 11,
   "metadata": {
    "nbgrader": {
     "grade": false,
     "grade_id": "cell-f97eb3e97245187b",
     "locked": false,
     "schema_version": 1,
     "solution": true
    },
    "slideshow": {
     "slide_type": "fragment"
    }
   },
   "outputs": [
    {
     "output_type": "stream",
     "name": "stdout",
     "text": [
      "First 10 Predictions:   ['Yes' 'Yes' 'Yes' 'Yes' 'Yes' 'Yes' 'Yes' 'Yes' 'No' 'Yes']\nFirst 10 Actual labels: [['Yes'], ['No'], ['No'], ['Yes'], ['Yes'], ['Yes'], ['Yes'], ['Yes'], ['No'], ['Yes']]\n"
     ]
    }
   ],
   "source": [
    "predictions = classifier.predict(X_test)\n",
    "print(f\"First 10 Predictions:   {predictions[:10]}\")\n",
    "print(f\"First 10 Actual labels: {y_test[:10].tolist()}\")"
   ]
  },
  {
   "cell_type": "code",
   "execution_count": null,
   "metadata": {},
   "outputs": [],
   "source": []
  }
 ],
 "metadata": {
  "kernelspec": {
   "display_name": "Python 3",
   "language": "python",
   "name": "python3"
  },
  "language_info": {
   "codemirror_mode": {
    "name": "ipython",
    "version": 3
   },
   "file_extension": ".py",
   "mimetype": "text/x-python",
   "name": "python",
   "nbconvert_exporter": "python",
   "pygments_lexer": "ipython3",
   "version": "3.7.7-final"
  },
  "varInspector": {
   "cols": {
    "lenName": 16,
    "lenType": 16,
    "lenVar": 40
   },
   "kernels_config": {
    "python": {
     "delete_cmd_postfix": "",
     "delete_cmd_prefix": "del ",
     "library": "var_list.py",
     "varRefreshCmd": "print(var_dic_list())"
    },
    "r": {
     "delete_cmd_postfix": ") ",
     "delete_cmd_prefix": "rm(",
     "library": "var_list.r",
     "varRefreshCmd": "cat(var_dic_list()) "
    }
   },
   "types_to_exclude": [
    "module",
    "function",
    "builtin_function_or_method",
    "instance",
    "_Feature"
   ],
   "window_display": false
  }
 },
 "nbformat": 4,
 "nbformat_minor": 4
}