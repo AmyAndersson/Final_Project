{
 "cells": [
  {
   "cell_type": "code",
   "execution_count": 4,
   "metadata": {
    "collapsed": true,
    "jupyter": {
     "outputs_hidden": true
    },
    "slideshow": {
     "slide_type": "subslide"
    }
   },
   "outputs": [],
   "source": [
    "%matplotlib inline\n",
    "import matplotlib.pyplot as plt\n",
    "import pandas as pd\n",
    "import os"
   ]
  },
  {
   "cell_type": "markdown",
   "metadata": {},
   "source": [
    "Data Cleaning \n"
   ]
  },
  {
   "cell_type": "code",
   "execution_count": 10,
   "metadata": {
    "slideshow": {
     "slide_type": "fragment"
    }
   },
   "outputs": [
    {
     "output_type": "execute_result",
     "data": {
      "text/plain": [
       "   ID  age  Num_kids                                          Education  \\\n",
       "0   1   33         1  Tertiary education ( University or TAFE or equ...   \n",
       "1   2   32         1  Tertiary education ( University or TAFE or equ...   \n",
       "2   3   33         1  Tertiary education ( University or TAFE or equ...   \n",
       "3   4   38         3  Tertiary education ( University or TAFE or equ...   \n",
       "4   5   54         2  Tertiary education ( University or TAFE or equ...   \n",
       "\n",
       "  pre_employment_Status                                  partnered mat_leave  \\\n",
       "0        Full time work                                     Single        No   \n",
       "1        Part time work  Partner ( Husband/Wife, De-facto partner)        No   \n",
       "2        Full time work  Partner ( Husband/Wife, De-facto partner)       Yes   \n",
       "3        Full time work                                     Single        No   \n",
       "4        Full time work                                     Single        No   \n",
       "\n",
       "                            mat_leave_eligability CCS_eligability  \\\n",
       "0  Yes- with some paid leave provided by Employer             Yes   \n",
       "1                                              No              No   \n",
       "2      Yes - Unpaid (excludes govt Maternity pay)              No   \n",
       "3                                              No             Yes   \n",
       "4  Yes- with some paid leave provided by Employer              No   \n",
       "\n",
       "                   help returned  \n",
       "0  Yes - Scheduled help      Yes  \n",
       "1                    No      NaN  \n",
       "2   Yes- As needed help      NaN  \n",
       "3   Yes- As needed help      Yes  \n",
       "4                    No       No  "
      ],
      "text/html": "<div>\n<style scoped>\n    .dataframe tbody tr th:only-of-type {\n        vertical-align: middle;\n    }\n\n    .dataframe tbody tr th {\n        vertical-align: top;\n    }\n\n    .dataframe thead th {\n        text-align: right;\n    }\n</style>\n<table border=\"1\" class=\"dataframe\">\n  <thead>\n    <tr style=\"text-align: right;\">\n      <th></th>\n      <th>ID</th>\n      <th>age</th>\n      <th>Num_kids</th>\n      <th>Education</th>\n      <th>pre_employment_Status</th>\n      <th>partnered</th>\n      <th>mat_leave</th>\n      <th>mat_leave_eligability</th>\n      <th>CCS_eligability</th>\n      <th>help</th>\n      <th>returned</th>\n    </tr>\n  </thead>\n  <tbody>\n    <tr>\n      <th>0</th>\n      <td>1</td>\n      <td>33</td>\n      <td>1</td>\n      <td>Tertiary education ( University or TAFE or equ...</td>\n      <td>Full time work</td>\n      <td>Single</td>\n      <td>No</td>\n      <td>Yes- with some paid leave provided by Employer</td>\n      <td>Yes</td>\n      <td>Yes - Scheduled help</td>\n      <td>Yes</td>\n    </tr>\n    <tr>\n      <th>1</th>\n      <td>2</td>\n      <td>32</td>\n      <td>1</td>\n      <td>Tertiary education ( University or TAFE or equ...</td>\n      <td>Part time work</td>\n      <td>Partner ( Husband/Wife, De-facto partner)</td>\n      <td>No</td>\n      <td>No</td>\n      <td>No</td>\n      <td>No</td>\n      <td>NaN</td>\n    </tr>\n    <tr>\n      <th>2</th>\n      <td>3</td>\n      <td>33</td>\n      <td>1</td>\n      <td>Tertiary education ( University or TAFE or equ...</td>\n      <td>Full time work</td>\n      <td>Partner ( Husband/Wife, De-facto partner)</td>\n      <td>Yes</td>\n      <td>Yes - Unpaid (excludes govt Maternity pay)</td>\n      <td>No</td>\n      <td>Yes- As needed help</td>\n      <td>NaN</td>\n    </tr>\n    <tr>\n      <th>3</th>\n      <td>4</td>\n      <td>38</td>\n      <td>3</td>\n      <td>Tertiary education ( University or TAFE or equ...</td>\n      <td>Full time work</td>\n      <td>Single</td>\n      <td>No</td>\n      <td>No</td>\n      <td>Yes</td>\n      <td>Yes- As needed help</td>\n      <td>Yes</td>\n    </tr>\n    <tr>\n      <th>4</th>\n      <td>5</td>\n      <td>54</td>\n      <td>2</td>\n      <td>Tertiary education ( University or TAFE or equ...</td>\n      <td>Full time work</td>\n      <td>Single</td>\n      <td>No</td>\n      <td>Yes- with some paid leave provided by Employer</td>\n      <td>No</td>\n      <td>No</td>\n      <td>No</td>\n    </tr>\n  </tbody>\n</table>\n</div>"
     },
     "metadata": {},
     "execution_count": 10
    }
   ],
   "source": [
    "survey = pd.read_csv(os.path.join( 'Resources', 'Survey_Data.csv'))\n",
    "survey.head()"
   ]
  },
  {
   "cell_type": "code",
   "execution_count": 6,
   "metadata": {
    "nbgrader": {
     "grade": false,
     "grade_id": "cell-86a9e3212f200d21",
     "locked": false,
     "schema_version": 1,
     "solution": true
    },
    "slideshow": {
     "slide_type": "subslide"
    }
   },
   "outputs": [
    {
     "output_type": "execute_result",
     "data": {
      "text/plain": [
       "      ID  age  Num_kids                                          Education  \\\n",
       "0      1   33         1  Tertiary education ( University or TAFE or equ...   \n",
       "3      4   38         3  Tertiary education ( University or TAFE or equ...   \n",
       "4      5   54         2  Tertiary education ( University or TAFE or equ...   \n",
       "5      6   38         2                                High School diploma   \n",
       "6      7   41         1                                High School diploma   \n",
       "..   ...  ...       ...                                                ...   \n",
       "108  109   54         4  Tertiary education ( University or TAFE or equ...   \n",
       "110  111   42         2  Tertiary education ( University or TAFE or equ...   \n",
       "111  112   37         2  Tertiary education ( University or TAFE or equ...   \n",
       "112  113   58         3  Tertiary education ( University or TAFE or equ...   \n",
       "113  114   30         2  Tertiary education ( University or TAFE or equ...   \n",
       "\n",
       "    pre_employment_Status                                  partnered  \\\n",
       "0          Full time work                                     Single   \n",
       "3          Full time work                                     Single   \n",
       "4          Full time work                                     Single   \n",
       "5          Full time work  Partner ( Husband/Wife, De-facto partner)   \n",
       "6          Full time work  Partner ( Husband/Wife, De-facto partner)   \n",
       "..                    ...                                        ...   \n",
       "108        Full time work  Partner ( Husband/Wife, De-facto partner)   \n",
       "110        Full time work  Partner ( Husband/Wife, De-facto partner)   \n",
       "111        Full time work  Partner ( Husband/Wife, De-facto partner)   \n",
       "112        Full time work  Partner ( Husband/Wife, De-facto partner)   \n",
       "113        Full time work  Partner ( Husband/Wife, De-facto partner)   \n",
       "\n",
       "    mat_leave                           mat_leave_eligability CCS_eligability  \\\n",
       "0          No  Yes- with some paid leave provided by Employer             Yes   \n",
       "3          No                                              No             Yes   \n",
       "4          No  Yes- with some paid leave provided by Employer              No   \n",
       "5          No  Yes- with some paid leave provided by Employer             Yes   \n",
       "6          No  Yes- with some paid leave provided by Employer              No   \n",
       "..        ...                                             ...             ...   \n",
       "108        No                                              No              No   \n",
       "110        No  Yes- with some paid leave provided by Employer              No   \n",
       "111       Yes  Yes- with some paid leave provided by Employer             Yes   \n",
       "112        No  Yes- with some paid leave provided by Employer              No   \n",
       "113        No      Yes - Unpaid (excludes govt Maternity pay)             Yes   \n",
       "\n",
       "                     help returned  \n",
       "0    Yes - Scheduled help      Yes  \n",
       "3     Yes- As needed help      Yes  \n",
       "4                      No       No  \n",
       "5                      No      Yes  \n",
       "6                      No      Yes  \n",
       "..                    ...      ...  \n",
       "108   Yes- As needed help      Yes  \n",
       "110   Yes- As needed help      Yes  \n",
       "111   Yes- As needed help      Yes  \n",
       "112                    No      Yes  \n",
       "113   Yes- As needed help      Yes  \n",
       "\n",
       "[99 rows x 11 columns]"
      ],
      "text/html": "<div>\n<style scoped>\n    .dataframe tbody tr th:only-of-type {\n        vertical-align: middle;\n    }\n\n    .dataframe tbody tr th {\n        vertical-align: top;\n    }\n\n    .dataframe thead th {\n        text-align: right;\n    }\n</style>\n<table border=\"1\" class=\"dataframe\">\n  <thead>\n    <tr style=\"text-align: right;\">\n      <th></th>\n      <th>ID</th>\n      <th>age</th>\n      <th>Num_kids</th>\n      <th>Education</th>\n      <th>pre_employment_Status</th>\n      <th>partnered</th>\n      <th>mat_leave</th>\n      <th>mat_leave_eligability</th>\n      <th>CCS_eligability</th>\n      <th>help</th>\n      <th>returned</th>\n    </tr>\n  </thead>\n  <tbody>\n    <tr>\n      <th>0</th>\n      <td>1</td>\n      <td>33</td>\n      <td>1</td>\n      <td>Tertiary education ( University or TAFE or equ...</td>\n      <td>Full time work</td>\n      <td>Single</td>\n      <td>No</td>\n      <td>Yes- with some paid leave provided by Employer</td>\n      <td>Yes</td>\n      <td>Yes - Scheduled help</td>\n      <td>Yes</td>\n    </tr>\n    <tr>\n      <th>3</th>\n      <td>4</td>\n      <td>38</td>\n      <td>3</td>\n      <td>Tertiary education ( University or TAFE or equ...</td>\n      <td>Full time work</td>\n      <td>Single</td>\n      <td>No</td>\n      <td>No</td>\n      <td>Yes</td>\n      <td>Yes- As needed help</td>\n      <td>Yes</td>\n    </tr>\n    <tr>\n      <th>4</th>\n      <td>5</td>\n      <td>54</td>\n      <td>2</td>\n      <td>Tertiary education ( University or TAFE or equ...</td>\n      <td>Full time work</td>\n      <td>Single</td>\n      <td>No</td>\n      <td>Yes- with some paid leave provided by Employer</td>\n      <td>No</td>\n      <td>No</td>\n      <td>No</td>\n    </tr>\n    <tr>\n      <th>5</th>\n      <td>6</td>\n      <td>38</td>\n      <td>2</td>\n      <td>High School diploma</td>\n      <td>Full time work</td>\n      <td>Partner ( Husband/Wife, De-facto partner)</td>\n      <td>No</td>\n      <td>Yes- with some paid leave provided by Employer</td>\n      <td>Yes</td>\n      <td>No</td>\n      <td>Yes</td>\n    </tr>\n    <tr>\n      <th>6</th>\n      <td>7</td>\n      <td>41</td>\n      <td>1</td>\n      <td>High School diploma</td>\n      <td>Full time work</td>\n      <td>Partner ( Husband/Wife, De-facto partner)</td>\n      <td>No</td>\n      <td>Yes- with some paid leave provided by Employer</td>\n      <td>No</td>\n      <td>No</td>\n      <td>Yes</td>\n    </tr>\n    <tr>\n      <th>...</th>\n      <td>...</td>\n      <td>...</td>\n      <td>...</td>\n      <td>...</td>\n      <td>...</td>\n      <td>...</td>\n      <td>...</td>\n      <td>...</td>\n      <td>...</td>\n      <td>...</td>\n      <td>...</td>\n    </tr>\n    <tr>\n      <th>108</th>\n      <td>109</td>\n      <td>54</td>\n      <td>4</td>\n      <td>Tertiary education ( University or TAFE or equ...</td>\n      <td>Full time work</td>\n      <td>Partner ( Husband/Wife, De-facto partner)</td>\n      <td>No</td>\n      <td>No</td>\n      <td>No</td>\n      <td>Yes- As needed help</td>\n      <td>Yes</td>\n    </tr>\n    <tr>\n      <th>110</th>\n      <td>111</td>\n      <td>42</td>\n      <td>2</td>\n      <td>Tertiary education ( University or TAFE or equ...</td>\n      <td>Full time work</td>\n      <td>Partner ( Husband/Wife, De-facto partner)</td>\n      <td>No</td>\n      <td>Yes- with some paid leave provided by Employer</td>\n      <td>No</td>\n      <td>Yes- As needed help</td>\n      <td>Yes</td>\n    </tr>\n    <tr>\n      <th>111</th>\n      <td>112</td>\n      <td>37</td>\n      <td>2</td>\n      <td>Tertiary education ( University or TAFE or equ...</td>\n      <td>Full time work</td>\n      <td>Partner ( Husband/Wife, De-facto partner)</td>\n      <td>Yes</td>\n      <td>Yes- with some paid leave provided by Employer</td>\n      <td>Yes</td>\n      <td>Yes- As needed help</td>\n      <td>Yes</td>\n    </tr>\n    <tr>\n      <th>112</th>\n      <td>113</td>\n      <td>58</td>\n      <td>3</td>\n      <td>Tertiary education ( University or TAFE or equ...</td>\n      <td>Full time work</td>\n      <td>Partner ( Husband/Wife, De-facto partner)</td>\n      <td>No</td>\n      <td>Yes- with some paid leave provided by Employer</td>\n      <td>No</td>\n      <td>No</td>\n      <td>Yes</td>\n    </tr>\n    <tr>\n      <th>113</th>\n      <td>114</td>\n      <td>30</td>\n      <td>2</td>\n      <td>Tertiary education ( University or TAFE or equ...</td>\n      <td>Full time work</td>\n      <td>Partner ( Husband/Wife, De-facto partner)</td>\n      <td>No</td>\n      <td>Yes - Unpaid (excludes govt Maternity pay)</td>\n      <td>Yes</td>\n      <td>Yes- As needed help</td>\n      <td>Yes</td>\n    </tr>\n  </tbody>\n</table>\n<p>99 rows × 11 columns</p>\n</div>"
     },
     "metadata": {},
     "execution_count": 6
    }
   ],
   "source": [
    "survey = survey.dropna(subset =[\"returned\"])\n",
    "survey"
   ]
  },
  {
   "cell_type": "code",
   "execution_count": 11,
   "metadata": {},
   "outputs": [
    {
     "output_type": "execute_result",
     "data": {
      "text/plain": [
       "      ID  age  Num_kids                                          Education  \\\n",
       "0      1   33         1  Tertiary education ( University or TAFE or equ...   \n",
       "1      2   32         1  Tertiary education ( University or TAFE or equ...   \n",
       "3      4   38         3  Tertiary education ( University or TAFE or equ...   \n",
       "4      5   54         2  Tertiary education ( University or TAFE or equ...   \n",
       "5      6   38         2                                High School diploma   \n",
       "..   ...  ...       ...                                                ...   \n",
       "108  109   54         4  Tertiary education ( University or TAFE or equ...   \n",
       "109  110   30         2  Tertiary education ( University or TAFE or equ...   \n",
       "110  111   42         2  Tertiary education ( University or TAFE or equ...   \n",
       "112  113   58         3  Tertiary education ( University or TAFE or equ...   \n",
       "113  114   30         2  Tertiary education ( University or TAFE or equ...   \n",
       "\n",
       "    pre_employment_Status                                  partnered  \\\n",
       "0          Full time work                                     Single   \n",
       "1          Part time work  Partner ( Husband/Wife, De-facto partner)   \n",
       "3          Full time work                                     Single   \n",
       "4          Full time work                                     Single   \n",
       "5          Full time work  Partner ( Husband/Wife, De-facto partner)   \n",
       "..                    ...                                        ...   \n",
       "108        Full time work  Partner ( Husband/Wife, De-facto partner)   \n",
       "109           Casual work  Partner ( Husband/Wife, De-facto partner)   \n",
       "110        Full time work  Partner ( Husband/Wife, De-facto partner)   \n",
       "112        Full time work  Partner ( Husband/Wife, De-facto partner)   \n",
       "113        Full time work  Partner ( Husband/Wife, De-facto partner)   \n",
       "\n",
       "    mat_leave                           mat_leave_eligability CCS_eligability  \\\n",
       "0          No  Yes- with some paid leave provided by Employer             Yes   \n",
       "1          No                                              No              No   \n",
       "3          No                                              No             Yes   \n",
       "4          No  Yes- with some paid leave provided by Employer              No   \n",
       "5          No  Yes- with some paid leave provided by Employer             Yes   \n",
       "..        ...                                             ...             ...   \n",
       "108        No                                              No              No   \n",
       "109        No                                              No              No   \n",
       "110        No  Yes- with some paid leave provided by Employer              No   \n",
       "112        No  Yes- with some paid leave provided by Employer              No   \n",
       "113        No      Yes - Unpaid (excludes govt Maternity pay)             Yes   \n",
       "\n",
       "                     help returned  \n",
       "0    Yes - Scheduled help      Yes  \n",
       "1                      No      NaN  \n",
       "3     Yes- As needed help      Yes  \n",
       "4                      No       No  \n",
       "5                      No      Yes  \n",
       "..                    ...      ...  \n",
       "108   Yes- As needed help      Yes  \n",
       "109   Yes- As needed help      NaN  \n",
       "110   Yes- As needed help      Yes  \n",
       "112                    No      Yes  \n",
       "113   Yes- As needed help      Yes  \n",
       "\n",
       "[94 rows x 11 columns]"
      ],
      "text/html": "<div>\n<style scoped>\n    .dataframe tbody tr th:only-of-type {\n        vertical-align: middle;\n    }\n\n    .dataframe tbody tr th {\n        vertical-align: top;\n    }\n\n    .dataframe thead th {\n        text-align: right;\n    }\n</style>\n<table border=\"1\" class=\"dataframe\">\n  <thead>\n    <tr style=\"text-align: right;\">\n      <th></th>\n      <th>ID</th>\n      <th>age</th>\n      <th>Num_kids</th>\n      <th>Education</th>\n      <th>pre_employment_Status</th>\n      <th>partnered</th>\n      <th>mat_leave</th>\n      <th>mat_leave_eligability</th>\n      <th>CCS_eligability</th>\n      <th>help</th>\n      <th>returned</th>\n    </tr>\n  </thead>\n  <tbody>\n    <tr>\n      <th>0</th>\n      <td>1</td>\n      <td>33</td>\n      <td>1</td>\n      <td>Tertiary education ( University or TAFE or equ...</td>\n      <td>Full time work</td>\n      <td>Single</td>\n      <td>No</td>\n      <td>Yes- with some paid leave provided by Employer</td>\n      <td>Yes</td>\n      <td>Yes - Scheduled help</td>\n      <td>Yes</td>\n    </tr>\n    <tr>\n      <th>1</th>\n      <td>2</td>\n      <td>32</td>\n      <td>1</td>\n      <td>Tertiary education ( University or TAFE or equ...</td>\n      <td>Part time work</td>\n      <td>Partner ( Husband/Wife, De-facto partner)</td>\n      <td>No</td>\n      <td>No</td>\n      <td>No</td>\n      <td>No</td>\n      <td>NaN</td>\n    </tr>\n    <tr>\n      <th>3</th>\n      <td>4</td>\n      <td>38</td>\n      <td>3</td>\n      <td>Tertiary education ( University or TAFE or equ...</td>\n      <td>Full time work</td>\n      <td>Single</td>\n      <td>No</td>\n      <td>No</td>\n      <td>Yes</td>\n      <td>Yes- As needed help</td>\n      <td>Yes</td>\n    </tr>\n    <tr>\n      <th>4</th>\n      <td>5</td>\n      <td>54</td>\n      <td>2</td>\n      <td>Tertiary education ( University or TAFE or equ...</td>\n      <td>Full time work</td>\n      <td>Single</td>\n      <td>No</td>\n      <td>Yes- with some paid leave provided by Employer</td>\n      <td>No</td>\n      <td>No</td>\n      <td>No</td>\n    </tr>\n    <tr>\n      <th>5</th>\n      <td>6</td>\n      <td>38</td>\n      <td>2</td>\n      <td>High School diploma</td>\n      <td>Full time work</td>\n      <td>Partner ( Husband/Wife, De-facto partner)</td>\n      <td>No</td>\n      <td>Yes- with some paid leave provided by Employer</td>\n      <td>Yes</td>\n      <td>No</td>\n      <td>Yes</td>\n    </tr>\n    <tr>\n      <th>...</th>\n      <td>...</td>\n      <td>...</td>\n      <td>...</td>\n      <td>...</td>\n      <td>...</td>\n      <td>...</td>\n      <td>...</td>\n      <td>...</td>\n      <td>...</td>\n      <td>...</td>\n      <td>...</td>\n    </tr>\n    <tr>\n      <th>108</th>\n      <td>109</td>\n      <td>54</td>\n      <td>4</td>\n      <td>Tertiary education ( University or TAFE or equ...</td>\n      <td>Full time work</td>\n      <td>Partner ( Husband/Wife, De-facto partner)</td>\n      <td>No</td>\n      <td>No</td>\n      <td>No</td>\n      <td>Yes- As needed help</td>\n      <td>Yes</td>\n    </tr>\n    <tr>\n      <th>109</th>\n      <td>110</td>\n      <td>30</td>\n      <td>2</td>\n      <td>Tertiary education ( University or TAFE or equ...</td>\n      <td>Casual work</td>\n      <td>Partner ( Husband/Wife, De-facto partner)</td>\n      <td>No</td>\n      <td>No</td>\n      <td>No</td>\n      <td>Yes- As needed help</td>\n      <td>NaN</td>\n    </tr>\n    <tr>\n      <th>110</th>\n      <td>111</td>\n      <td>42</td>\n      <td>2</td>\n      <td>Tertiary education ( University or TAFE or equ...</td>\n      <td>Full time work</td>\n      <td>Partner ( Husband/Wife, De-facto partner)</td>\n      <td>No</td>\n      <td>Yes- with some paid leave provided by Employer</td>\n      <td>No</td>\n      <td>Yes- As needed help</td>\n      <td>Yes</td>\n    </tr>\n    <tr>\n      <th>112</th>\n      <td>113</td>\n      <td>58</td>\n      <td>3</td>\n      <td>Tertiary education ( University or TAFE or equ...</td>\n      <td>Full time work</td>\n      <td>Partner ( Husband/Wife, De-facto partner)</td>\n      <td>No</td>\n      <td>Yes- with some paid leave provided by Employer</td>\n      <td>No</td>\n      <td>No</td>\n      <td>Yes</td>\n    </tr>\n    <tr>\n      <th>113</th>\n      <td>114</td>\n      <td>30</td>\n      <td>2</td>\n      <td>Tertiary education ( University or TAFE or equ...</td>\n      <td>Full time work</td>\n      <td>Partner ( Husband/Wife, De-facto partner)</td>\n      <td>No</td>\n      <td>Yes - Unpaid (excludes govt Maternity pay)</td>\n      <td>Yes</td>\n      <td>Yes- As needed help</td>\n      <td>Yes</td>\n    </tr>\n  </tbody>\n</table>\n<p>94 rows × 11 columns</p>\n</div>"
     },
     "metadata": {},
     "execution_count": 11
    }
   ],
   "source": [
    "survey = survey[survey.mat_leave != \"Yes\"]\n",
    "survey"
   ]
  },
  {
   "cell_type": "markdown",
   "metadata": {
    "slideshow": {
     "slide_type": "subslide"
    }
   },
   "source": []
  }
 ],
 "metadata": {
  "kernelspec": {
   "display_name": "Python 3",
   "language": "python",
   "name": "python3"
  },
  "language_info": {
   "codemirror_mode": {
    "name": "ipython",
    "version": 3
   },
   "file_extension": ".py",
   "mimetype": "text/x-python",
   "name": "python",
   "nbconvert_exporter": "python",
   "pygments_lexer": "ipython3",
   "version": "3.7.7-final"
  },
  "varInspector": {
   "cols": {
    "lenName": 16,
    "lenType": 16,
    "lenVar": 40
   },
   "kernels_config": {
    "python": {
     "delete_cmd_postfix": "",
     "delete_cmd_prefix": "del ",
     "library": "var_list.py",
     "varRefreshCmd": "print(var_dic_list())"
    },
    "r": {
     "delete_cmd_postfix": ") ",
     "delete_cmd_prefix": "rm(",
     "library": "var_list.r",
     "varRefreshCmd": "cat(var_dic_list()) "
    }
   },
   "types_to_exclude": [
    "module",
    "function",
    "builtin_function_or_method",
    "instance",
    "_Feature"
   ],
   "window_display": false
  }
 },
 "nbformat": 4,
 "nbformat_minor": 4
}